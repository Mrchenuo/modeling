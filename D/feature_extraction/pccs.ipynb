{
 "cells": [
  {
   "cell_type": "code",
   "execution_count": 14,
   "metadata": {
    "collapsed": true
   },
   "outputs": [],
   "source": [
    "import numpy as np\n",
    "import pandas as pd\n",
    "from matplotlib.font_manager import FontProperties\n",
    "from sklearn.ensemble import RandomForestRegressor\n",
    "from sklearn.impute import SimpleImputer\n",
    "from sklearn.pipeline import Pipeline\n",
    "from sklearn.preprocessing import StandardScaler\n",
    "import matplotlib.pyplot as plt\n",
    "plt.rcParams['font.sans-serif']=['SimHei'] #用来正常显示中文标签\n",
    "plt.rcParams['axes.unicode_minus']=False #用来正常显示负号#有中文出现的情况，需要u'内容'\n",
    "\n",
    "import seaborn as sns\n",
    "%matplotlib inline"
   ]
  },
  {
   "cell_type": "code",
   "execution_count": 4,
   "outputs": [],
   "source": [
    "# 从硬盘读取数据进入内存\n",
    "\n",
    "train_df = pd.read_excel(\"../data/train2.xlsx\", engine='openpyxl', sheet_name='training')\n",
    "train_df = train_df.iloc[:, 1:1500]"
   ],
   "metadata": {
    "collapsed": false,
    "pycharm": {
     "name": "#%%\n"
    }
   }
  },
  {
   "cell_type": "code",
   "execution_count": 5,
   "outputs": [
    {
     "name": "stdout",
     "output_type": "stream",
     "text": [
      " 1. hmin                           -0.426365\n",
      " 2. C1SP2                          -0.406929\n",
      " 3. ATSc3                          -0.351859\n",
      " 4. ETA_Epsilon_4                  -0.351553\n",
      " 5. mindO                          -0.335274\n",
      " 6. maxdO                          -0.328900\n",
      " 7. SaaN                           -0.328658\n",
      " 8. naaN                           -0.327903\n",
      " 9. maxaaN                         -0.323642\n",
      "10. minHssNH                       -0.322588\n",
      "11. maxHssNH                       -0.320859\n",
      "12. minaaN                         -0.320223\n",
      "13. BCUTc-1l                       -0.319257\n",
      "14. ETA_Beta                       0.307245\n",
      "15. ETA_Beta_s                     0.310525\n",
      "16. SHsOH                          0.314664\n",
      "17. C1SP3                          0.317207\n",
      "18. nBondsS2                       0.317803\n",
      "19. ATSc4                          0.318528\n",
      "20. MW                             0.318592\n",
      "21. minHBint10                     0.320568\n",
      "22. VP-6                           0.321705\n",
      "23. SsssN                          0.323061\n",
      "24. SssCH2                         0.323939\n",
      "25. naAromAtom                     0.325469\n",
      "26. SP-0                           0.326832\n",
      "27. XLogP                          0.328499\n",
      "28. ETA_Eta_L                      0.333226\n",
      "29. SHother                        0.333502\n",
      "30. nH                             0.344902\n",
      "31. naasC                          0.346292\n",
      "32. VP-0                           0.347549\n",
      "33. maxssCH2                       0.347655\n",
      "34. nHsOH                          0.347666\n",
      "35. nsOH                           0.347666\n",
      "36. SHaaCH                         0.349796\n",
      "37. nHeavyAtom                     0.350710\n",
      "38. SaasC                          0.350789\n",
      "39. SsOH                           0.352125\n",
      "40. VABC                           0.352208\n",
      "41. C3SP2                          0.354980\n",
      "42. SP-2                           0.355897\n",
      "43. McGowan_Volume                 0.355962\n",
      "44. MLFER_A                        0.358027\n",
      "45. ETA_dEpsilon_C                 0.358792\n",
      "46. ETA_Eta_R_L                    0.359102\n",
      "47. SP-1                           0.359102\n",
      "48. nRing                          0.360609\n",
      "49. nAtom                          0.361989\n",
      "50. nBondsS                        0.362137\n",
      "51. WPOL                           0.362230\n",
      "52. ETA_Alpha                      0.365068\n",
      "53. WTPT-1                         0.365259\n",
      "54. nwHBa                          0.365964\n",
      "55. CrippenMR                      0.366455\n",
      "56. SP-4                           0.370426\n",
      "57. Zagreb                         0.370748\n",
      "58. SP-3                           0.371207\n",
      "59. nBonds                         0.372052\n",
      "60. nBonds2                        0.374058\n",
      "61. VP-2                           0.374509\n",
      "62. VP-5                           0.377660\n",
      "63. VP-1                           0.378242\n",
      "64. VP-4                           0.381527\n",
      "65. apol                           0.383253\n",
      "66. ATSp5                          0.383628\n",
      "67. SP-7                           0.384119\n",
      "68. ATSp3                          0.386653\n",
      "69. VP-3                           0.387144\n",
      "70. VAdjMat                        0.390134\n",
      "71. nHother                        0.393856\n",
      "72. SP-6                           0.394106\n",
      "73. ATSp1                          0.396516\n",
      "74. ATSp2                          0.399127\n",
      "75. minHsOH                        0.399130\n",
      "76. ATSp4                          0.400721\n",
      "77. nHaaCH                         0.405415\n",
      "78. naaCH                          0.405415\n",
      "79. maxHsOH                        0.408761\n",
      "80. CrippenLogP                    0.412300\n",
      "81. SaaCH                          0.418828\n",
      "82. SP-5                           0.419318\n",
      "83. MDEC-22                        0.420095\n",
      "84. maxsssN                        0.420674\n",
      "85. SwHBa                          0.423176\n",
      "86. AMR                            0.425149\n",
      "87. C2SP2                          0.426632\n",
      "88. BCUTp-1h                       0.428526\n",
      "89. minsssN                        0.430690\n",
      "90. n6Ring                         0.432108\n",
      "91. nT6Ring                        0.440443\n",
      "92. nC                             0.459549\n",
      "93. minsOH                         0.466127\n",
      "94. maxsOH                         0.466621\n",
      "95. LipoaffinityIndex              0.491855\n",
      "96. MLogP                          0.529321\n",
      "97. MDEC-23                        0.538048\n"
     ]
    }
   ],
   "source": [
    "# features = train_df.corr().columns[train_df.corr()['pIC50'].abs() > .3]\n",
    "# features = features.drop('pIC50')\n",
    "#\n",
    "# corr = train_df.corr()[train_df.corr()['pIC50'].abs() > .3]['pIC50'].drop('pIC50')\n",
    "# corr = corr.sort_values(ascending=True)\n",
    "# fea_idx = corr.index\n",
    "#\n",
    "# for i in range(len(corr)):\n",
    "#     first,sec = corr.index[i],corr.iloc[i]\n",
    "#     print(\"%2d. %-*s %f\" % (i + 1, 30, first, sec))"
   ],
   "metadata": {
    "collapsed": false,
    "pycharm": {
     "name": "#%%\n"
    }
   }
  },
  {
   "cell_type": "code",
   "execution_count": 6,
   "outputs": [],
   "source": [
    "# corr = corr.to_frame()\n",
    "# fig, ax = plt.subplots()\n",
    "# im = ax.imshow(corr)\n",
    "#\n",
    "# # We want to show all ticks...\n",
    "# ax.set_xticks(np.arange(len(corr.index)))\n",
    "# ax.set_yticks(np.arange(len(['pIC50'])))\n",
    "# # ... and label them with the respective list entries\n",
    "# ax.set_xticklabels(corr.index)\n",
    "# ax.set_yticklabels(['pIC50'])\n",
    "#\n",
    "# # Rotate the tick labels and set their alignment.\n",
    "# plt.setp(ax.get_xticklabels(), rotation=45, ha=\"right\",\n",
    "#          rotation_mode=\"anchor\")\n",
    "#\n",
    "# # Loop over data dimensions and create text annotations.\n",
    "# for i in range(len(corr.index)):\n",
    "#     for j in range(len('pIC50')):\n",
    "#         text = ax.text(j, i, corr[i, j],\n",
    "#                        ha=\"center\", va=\"center\", color=\"w\")\n",
    "#\n",
    "# ax.set_title(\"PCCs\")\n",
    "# fig.tight_layout()"
   ],
   "metadata": {
    "collapsed": false,
    "pycharm": {
     "name": "#%%\n"
    }
   }
  },
  {
   "cell_type": "code",
   "execution_count": 31,
   "outputs": [
    {
     "name": "stdout",
     "output_type": "stream",
     "text": [
      "[85 74 20  7 63 66 14 60 73 86 64 59 95 15 50 39  8 22 58 72]\n",
      " 1. MDEC-23                        0.213423\n",
      " 2. LipoaffinityIndex              0.050112\n",
      " 3. C1SP2                          0.046506\n",
      " 4. ATSc3                          0.041540\n",
      " 5. minsssN                        0.041525\n",
      " 6. maxHsOH                        0.040628\n",
      " 7. BCUTc-1l                       0.032125\n",
      " 8. minHsOH                        0.031686\n",
      " 9. hmin                           0.028587\n",
      "10. MLFER_A                        0.027552\n",
      "11. minsOH                         0.027280\n",
      "12. minHBint10                     0.021323\n",
      "13. XLogP                          0.017318\n",
      "14. BCUTp-1h                       0.016641\n",
      "15. SHsOH                          0.016473\n",
      "16. CrippenLogP                    0.015712\n",
      "17. ATSc4                          0.015530\n",
      "18. C3SP2                          0.013201\n",
      "19. SsOH                           0.013054\n",
      "20. maxdO                          0.011947\n"
     ]
    }
   ],
   "source": [
    "    # 先用皮尔逊系数粗略的选择出相关性系数的绝对值大于0.3的属性列，这样不需要训练过多不重要的属性列\n",
    "    # 可以这么做而且不会破坏实验的控制变量原则，因为根据皮尔逊相关系数选择出的重要性排名前10的属性列\n",
    "    # 它们与要预测的属性列的皮尔逊相关系数均大于0.3，可以当成步骤1中也进行了同样的取相关系数为0.3的操作\n",
    "    corr = train_df.corr()[train_df.corr()['pIC50'].abs() > .3]['pIC50']\n",
    "    features = train_df.corr().columns[train_df.corr()['pIC50'].abs() > .3]\n",
    "    features = features.drop('pIC50')\n",
    "\n",
    "# 使用随机森林模型进行拟合的过程\n",
    "    X_train = train_df[features]\n",
    "    # X_train = train_df\n",
    "    y_train = train_df['pIC50']\n",
    "    feat_labels = X_train.columns\n",
    "\n",
    "    rf = RandomForestRegressor(n_estimators=1000, max_depth=None)\n",
    "    rf_pipe = Pipeline([('imputer', SimpleImputer(strategy='median')), ('standardize', StandardScaler()), ('rf', rf)])\n",
    "    rf_pipe.fit(X_train, y_train)\n",
    "\n",
    "    # 根据随机森林模型的拟合结果选择特征\n",
    "    rf = rf_pipe.__getitem__('rf')\n",
    "    importance = rf.feature_importances_\n",
    "\n",
    "    # np.argsort()返回待排序集合从下到大的索引值，[::-1]实现倒序，即最终imp_result内保存的是从大到小的索引值\n",
    "    imp_result = np.argsort(importance)[::-1][:20]\n",
    "    print(imp_result)\n",
    "    # 按重要性从高到低输出属性列名和其重要性\n",
    "    important_feature = list()\n",
    "    for i in range(len(imp_result)):\n",
    "        important_feature.append(feat_labels[imp_result[i]])\n",
    "        print(\"%2d. %-*s %f\" % (i + 1, 30, feat_labels[imp_result[i]], importance[imp_result[i]]))"
   ],
   "metadata": {
    "collapsed": false,
    "pycharm": {
     "name": "#%%\n"
    }
   }
  },
  {
   "cell_type": "code",
   "execution_count": 29,
   "outputs": [
    {
     "ename": "ValueError",
     "evalue": "The number of FixedLocator locations (20), usually from a call to set_ticks, does not match the number of ticklabels (98).",
     "output_type": "error",
     "traceback": [
      "\u001B[1;31m---------------------------------------------------------------------------\u001B[0m",
      "\u001B[1;31mValueError\u001B[0m                                Traceback (most recent call last)",
      "\u001B[1;32m<ipython-input-29-ea15424150df>\u001B[0m in \u001B[0;36m<module>\u001B[1;34m\u001B[0m\n\u001B[0;32m      8\u001B[0m \u001B[0max\u001B[0m\u001B[1;33m.\u001B[0m\u001B[0mset_yticks\u001B[0m\u001B[1;33m(\u001B[0m\u001B[0mnp\u001B[0m\u001B[1;33m.\u001B[0m\u001B[0marange\u001B[0m\u001B[1;33m(\u001B[0m\u001B[1;36m20\u001B[0m\u001B[1;33m)\u001B[0m\u001B[1;33m)\u001B[0m\u001B[1;33m\u001B[0m\u001B[1;33m\u001B[0m\u001B[0m\n\u001B[0;32m      9\u001B[0m \u001B[1;31m# ... and label them with the respective list entries\u001B[0m\u001B[1;33m\u001B[0m\u001B[1;33m\u001B[0m\u001B[1;33m\u001B[0m\u001B[0m\n\u001B[1;32m---> 10\u001B[1;33m \u001B[0max\u001B[0m\u001B[1;33m.\u001B[0m\u001B[0mset_xticklabels\u001B[0m\u001B[1;33m(\u001B[0m\u001B[0mcorr\u001B[0m\u001B[1;33m.\u001B[0m\u001B[0mindex\u001B[0m\u001B[1;33m)\u001B[0m\u001B[1;33m\u001B[0m\u001B[1;33m\u001B[0m\u001B[0m\n\u001B[0m\u001B[0;32m     11\u001B[0m \u001B[0max\u001B[0m\u001B[1;33m.\u001B[0m\u001B[0mset_yticklabels\u001B[0m\u001B[1;33m(\u001B[0m\u001B[1;33m[\u001B[0m\u001B[1;34m'pIC50'\u001B[0m\u001B[1;33m]\u001B[0m\u001B[1;33m)\u001B[0m\u001B[1;33m\u001B[0m\u001B[1;33m\u001B[0m\u001B[0m\n\u001B[0;32m     12\u001B[0m \u001B[1;33m\u001B[0m\u001B[0m\n",
      "\u001B[1;32m~\\anaconda3\\envs\\diveintoDL\\lib\\site-packages\\matplotlib\\axes\\_base.py\u001B[0m in \u001B[0;36mwrapper\u001B[1;34m(self, *args, **kwargs)\u001B[0m\n\u001B[0;32m     61\u001B[0m \u001B[1;33m\u001B[0m\u001B[0m\n\u001B[0;32m     62\u001B[0m         \u001B[1;32mdef\u001B[0m \u001B[0mwrapper\u001B[0m\u001B[1;33m(\u001B[0m\u001B[0mself\u001B[0m\u001B[1;33m,\u001B[0m \u001B[1;33m*\u001B[0m\u001B[0margs\u001B[0m\u001B[1;33m,\u001B[0m \u001B[1;33m**\u001B[0m\u001B[0mkwargs\u001B[0m\u001B[1;33m)\u001B[0m\u001B[1;33m:\u001B[0m\u001B[1;33m\u001B[0m\u001B[1;33m\u001B[0m\u001B[0m\n\u001B[1;32m---> 63\u001B[1;33m             \u001B[1;32mreturn\u001B[0m \u001B[0mget_method\u001B[0m\u001B[1;33m(\u001B[0m\u001B[0mself\u001B[0m\u001B[1;33m)\u001B[0m\u001B[1;33m(\u001B[0m\u001B[1;33m*\u001B[0m\u001B[0margs\u001B[0m\u001B[1;33m,\u001B[0m \u001B[1;33m**\u001B[0m\u001B[0mkwargs\u001B[0m\u001B[1;33m)\u001B[0m\u001B[1;33m\u001B[0m\u001B[1;33m\u001B[0m\u001B[0m\n\u001B[0m\u001B[0;32m     64\u001B[0m \u001B[1;33m\u001B[0m\u001B[0m\n\u001B[0;32m     65\u001B[0m         \u001B[0mwrapper\u001B[0m\u001B[1;33m.\u001B[0m\u001B[0m__module__\u001B[0m \u001B[1;33m=\u001B[0m \u001B[0mowner\u001B[0m\u001B[1;33m.\u001B[0m\u001B[0m__module__\u001B[0m\u001B[1;33m\u001B[0m\u001B[1;33m\u001B[0m\u001B[0m\n",
      "\u001B[1;32m~\\anaconda3\\envs\\diveintoDL\\lib\\site-packages\\matplotlib\\cbook\\deprecation.py\u001B[0m in \u001B[0;36mwrapper\u001B[1;34m(*args, **kwargs)\u001B[0m\n\u001B[0;32m    449\u001B[0m                 \u001B[1;34m\"parameter will become keyword-only %(removal)s.\"\u001B[0m\u001B[1;33m,\u001B[0m\u001B[1;33m\u001B[0m\u001B[1;33m\u001B[0m\u001B[0m\n\u001B[0;32m    450\u001B[0m                 name=name, obj_type=f\"parameter of {func.__name__}()\")\n\u001B[1;32m--> 451\u001B[1;33m         \u001B[1;32mreturn\u001B[0m \u001B[0mfunc\u001B[0m\u001B[1;33m(\u001B[0m\u001B[1;33m*\u001B[0m\u001B[0margs\u001B[0m\u001B[1;33m,\u001B[0m \u001B[1;33m**\u001B[0m\u001B[0mkwargs\u001B[0m\u001B[1;33m)\u001B[0m\u001B[1;33m\u001B[0m\u001B[1;33m\u001B[0m\u001B[0m\n\u001B[0m\u001B[0;32m    452\u001B[0m \u001B[1;33m\u001B[0m\u001B[0m\n\u001B[0;32m    453\u001B[0m     \u001B[1;32mreturn\u001B[0m \u001B[0mwrapper\u001B[0m\u001B[1;33m\u001B[0m\u001B[1;33m\u001B[0m\u001B[0m\n",
      "\u001B[1;32m~\\anaconda3\\envs\\diveintoDL\\lib\\site-packages\\matplotlib\\axis.py\u001B[0m in \u001B[0;36m_set_ticklabels\u001B[1;34m(self, labels, fontdict, minor, **kwargs)\u001B[0m\n\u001B[0;32m   1791\u001B[0m         \u001B[1;32mif\u001B[0m \u001B[0mfontdict\u001B[0m \u001B[1;32mis\u001B[0m \u001B[1;32mnot\u001B[0m \u001B[1;32mNone\u001B[0m\u001B[1;33m:\u001B[0m\u001B[1;33m\u001B[0m\u001B[1;33m\u001B[0m\u001B[0m\n\u001B[0;32m   1792\u001B[0m             \u001B[0mkwargs\u001B[0m\u001B[1;33m.\u001B[0m\u001B[0mupdate\u001B[0m\u001B[1;33m(\u001B[0m\u001B[0mfontdict\u001B[0m\u001B[1;33m)\u001B[0m\u001B[1;33m\u001B[0m\u001B[1;33m\u001B[0m\u001B[0m\n\u001B[1;32m-> 1793\u001B[1;33m         \u001B[1;32mreturn\u001B[0m \u001B[0mself\u001B[0m\u001B[1;33m.\u001B[0m\u001B[0mset_ticklabels\u001B[0m\u001B[1;33m(\u001B[0m\u001B[0mlabels\u001B[0m\u001B[1;33m,\u001B[0m \u001B[0mminor\u001B[0m\u001B[1;33m=\u001B[0m\u001B[0mminor\u001B[0m\u001B[1;33m,\u001B[0m \u001B[1;33m**\u001B[0m\u001B[0mkwargs\u001B[0m\u001B[1;33m)\u001B[0m\u001B[1;33m\u001B[0m\u001B[1;33m\u001B[0m\u001B[0m\n\u001B[0m\u001B[0;32m   1794\u001B[0m \u001B[1;33m\u001B[0m\u001B[0m\n\u001B[0;32m   1795\u001B[0m     \u001B[1;33m@\u001B[0m\u001B[0mcbook\u001B[0m\u001B[1;33m.\u001B[0m\u001B[0m_make_keyword_only\u001B[0m\u001B[1;33m(\u001B[0m\u001B[1;34m\"3.2\"\u001B[0m\u001B[1;33m,\u001B[0m \u001B[1;34m\"minor\"\u001B[0m\u001B[1;33m)\u001B[0m\u001B[1;33m\u001B[0m\u001B[1;33m\u001B[0m\u001B[0m\n",
      "\u001B[1;32m~\\anaconda3\\envs\\diveintoDL\\lib\\site-packages\\matplotlib\\axis.py\u001B[0m in \u001B[0;36mset_ticklabels\u001B[1;34m(self, ticklabels, minor, **kwargs)\u001B[0m\n\u001B[0;32m   1712\u001B[0m             \u001B[1;31m# remove all tick labels, so only error for > 0 ticklabels\u001B[0m\u001B[1;33m\u001B[0m\u001B[1;33m\u001B[0m\u001B[1;33m\u001B[0m\u001B[0m\n\u001B[0;32m   1713\u001B[0m             \u001B[1;32mif\u001B[0m \u001B[0mlen\u001B[0m\u001B[1;33m(\u001B[0m\u001B[0mlocator\u001B[0m\u001B[1;33m.\u001B[0m\u001B[0mlocs\u001B[0m\u001B[1;33m)\u001B[0m \u001B[1;33m!=\u001B[0m \u001B[0mlen\u001B[0m\u001B[1;33m(\u001B[0m\u001B[0mticklabels\u001B[0m\u001B[1;33m)\u001B[0m \u001B[1;32mand\u001B[0m \u001B[0mlen\u001B[0m\u001B[1;33m(\u001B[0m\u001B[0mticklabels\u001B[0m\u001B[1;33m)\u001B[0m \u001B[1;33m!=\u001B[0m \u001B[1;36m0\u001B[0m\u001B[1;33m:\u001B[0m\u001B[1;33m\u001B[0m\u001B[1;33m\u001B[0m\u001B[0m\n\u001B[1;32m-> 1714\u001B[1;33m                 raise ValueError(\n\u001B[0m\u001B[0;32m   1715\u001B[0m                     \u001B[1;34m\"The number of FixedLocator locations\"\u001B[0m\u001B[1;33m\u001B[0m\u001B[1;33m\u001B[0m\u001B[0m\n\u001B[0;32m   1716\u001B[0m                     \u001B[1;34mf\" ({len(locator.locs)}), usually from a call to\"\u001B[0m\u001B[1;33m\u001B[0m\u001B[1;33m\u001B[0m\u001B[0m\n",
      "\u001B[1;31mValueError\u001B[0m: The number of FixedLocator locations (20), usually from a call to set_ticks, does not match the number of ticklabels (98)."
     ]
    },
    {
     "data": {
      "text/plain": "<Figure size 432x288 with 1 Axes>",
      "image/png": "[encoded data removed]"
     },
     "metadata": {
      "needs_background": "light"
     },
     "output_type": "display_data"
    }
   ],
   "source": [
    "select_df = train_df[important_feature]\n",
    "features = select_df.corr()\n",
    "\n",
    "fig, ax = plt.subplots()\n",
    "im = ax.imshow(features)\n",
    "# We want to show all ticks...\n",
    "ax.set_xticks(np.arange(20))\n",
    "ax.set_yticks(np.arange(20))\n",
    "# ... and label them with the respective list entries\n",
    "ax.set_xticklabels(corr.index)\n",
    "ax.set_yticklabels(['pIC50'])\n",
    "\n",
    "# Rotate the tick labels and set their alignment.\n",
    "plt.setp(ax.get_xticklabels(), rotation=45, ha=\"right\",\n",
    "         rotation_mode=\"anchor\")\n",
    "\n",
    "# Loop over data dimensions and create text annotations.\n",
    "for i in range(len(corr.index)):\n",
    "    for j in range(len('pIC50')):\n",
    "        text = ax.text(j, i, corr[i, j],\n",
    "                       ha=\"center\", va=\"center\", color=\"w\")\n",
    "\n",
    "ax.set_title(\"PCCs\")\n",
    "fig.tight_layout()"
   ],
   "metadata": {
    "collapsed": false,
    "pycharm": {
     "name": "#%%\n"
    }
   }
  },
  {
   "cell_type": "code",
   "execution_count": 48,
   "outputs": [
    {
     "data": {
      "text/plain": "<Figure size 720x480 with 2 Axes>",
      "image/png": "[encoded data removed]"
     },
     "metadata": {
      "needs_background": "light"
     },
     "output_type": "display_data"
    }
   ],
   "source": [
    "# ip = important_feature.append('pIC50')\n",
    "# important_feature.append('pIC50')\n",
    "select_df = train_df[important_feature]\n",
    "features = select_df.corr()\n",
    "features = features['pIC50']\n",
    "\n",
    "# features.update(features.select_dtypes(include=[np.number]).abs())\n",
    "data = np.asarray(features).reshape(-1,1)\n",
    "data = np.abs(data)\n",
    "plt.figure(dpi=120)\n",
    "\n",
    "# sns.heatmap(data=data,#矩阵数据集，数据的index和columns分别为heatmap的y轴方向和x轴方向标签\n",
    "#          )\n",
    "ax = sns.heatmap(data[0:-1,:],cmap = 'RdBu', center=0,cbar = True, square = False,\n",
    "                 xticklabels =['pIC50'],yticklabels=important_feature[:-1])\n",
    "plt.title('相关性')\n",
    "plt.savefig(\"q1_correction.png\")"
   ],
   "metadata": {
    "collapsed": false,
    "pycharm": {
     "name": "#%%\n"
    }
   }
  }
 ],
 "metadata": {
  "kernelspec": {
   "display_name": "Python 3",
   "language": "python",
   "name": "python3"
  },
  "language_info": {
   "codemirror_mode": {
    "name": "ipython",
    "version": 2
   },
   "file_extension": ".py",
   "mimetype": "text/x-python",
   "name": "python",
   "nbconvert_exporter": "python",
   "pygments_lexer": "ipython2",
   "version": "2.7.6"
  }
 },
 "nbformat": 4,
 "nbformat_minor": 0
}